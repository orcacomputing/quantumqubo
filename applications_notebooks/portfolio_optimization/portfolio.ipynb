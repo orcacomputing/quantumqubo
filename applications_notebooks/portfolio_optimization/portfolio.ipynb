{
 "cells": [
  {
   "cell_type": "markdown",
   "metadata": {},
   "source": [
    "# Portfolio optimisation\n",
    "This notebook illustrates an application of ORCA's PT-Series to portfolio optimisation, where ORCA's QUBO optimiser is used to decide\n",
    "which companies (with discrete weights) should be included in a portfolio to maximise return and minimise risk.\n",
    "\n",
    "We start by performing the required imports"
   ]
  },
  {
   "cell_type": "code",
   "execution_count": null,
   "metadata": {},
   "outputs": [],
   "source": [
    "import os\n",
    "import numpy as np\n",
    "import matplotlib.pyplot as plt\n",
    "from pprint import pprint\n",
    "\n",
    "if os.getcwd()[-12:]==\"optimization\":\n",
    "    os.chdir(\"../..\")\n",
    "\n",
    "from quantumqubo.qubo import QUBO\n",
    "from applications_notebooks.portfolio_optimization.utils_finance import get_returns_and_cov, decode_bits_sequence, plot_random_portfolio\n"
   ]
  },
  {
   "cell_type": "markdown",
   "metadata": {},
   "source": [
    "### The problem\n",
    "\n",
    "We want to find the optimal proportions of investment $\\omega$ between $N_a$ companies, $\\omega \\in [0,1]^{N_a}$. It can be formulated as minimizing:\n",
    "\n",
    "$E = -\\underbrace{\\omega^T\\mu}_{return} + \\gamma \\underbrace{\\omega^T \\Sigma \\omega}_{risk}$  $\\quad$ with    $||\\omega|| = 1 $\n",
    "\n",
    "$\\gamma$ is the risk adversion, $\\mu$ is the return (vector) and $\\Sigma$ is the covariance matrix."
   ]
  },
  {
   "cell_type": "code",
   "execution_count": null,
   "metadata": {},
   "outputs": [],
   "source": [
    "N = 20 # Number of companies\n",
    "Nq = 1 # Number of bits used to discretise company weight in a portfolio. A value of 1 means the decision is binary and all companies have equal weight\n",
    "gamma = 5 # Penalty for the variance"
   ]
  },
  {
   "cell_type": "markdown",
   "metadata": {},
   "source": [
    "\n",
    "### Load stock market data for some number of companies, and determine average returns and covariance matrix\n",
    "We use stock market data between 2010 and 2017 for up to 60 companies with the following tickers to determine average historical returns and covariance."
   ]
  },
  {
   "cell_type": "code",
   "execution_count": null,
   "metadata": {},
   "outputs": [],
   "source": [
    "companies = ['AAPL', 'TSLA', 'AMZN', 'TSM', 'JPM', 'BABA', 'JNJ', 'UNH', 'WMT', 'V', 'BAC', 'HD', \n",
    "             'PG', 'MA', 'CRM', 'NKE', 'NVO', 'XOM', 'ORCL', 'TM', 'TMO', 'PFE', 'LLY', 'KO', 'ACN',\n",
    "             'ABT', 'MRK', 'DHR', 'CVX', 'VZ', 'WFC', 'ECL', 'MS', 'CL', 'NVS', 'SHOP', 'MCD', 'UPS', \n",
    "             'SAP', 'T', 'LIN', 'NEE', 'MDT', 'LOW', 'UNP', 'HON', 'RY', 'SCHW', 'SONY', 'PM', 'BLK', \n",
    "             'UL', 'GS', 'C', 'EL', 'CVS', 'GE', 'SQ', 'CAT', 'APD' ]\n",
    "\n",
    "companies = companies[:N]\n",
    "\n",
    "mu, Sigma = get_returns_and_cov(\n",
    "    companies,\n",
    "    start='2010-1-1', \n",
    "    end='2017-1-1'\n",
    ")"
   ]
  },
  {
   "cell_type": "markdown",
   "metadata": {},
   "source": [
    "## Initialize and run the QUBO solver\n",
    "We first define the function to minimise, then initialize and run our QUBO solver"
   ]
  },
  {
   "cell_type": "code",
   "execution_count": null,
   "metadata": {},
   "outputs": [],
   "source": [
    "def portfolio_function(bit_string):\n",
    "    \n",
    "    weights = decode_bits_sequence(bit_string, Nq)\n",
    "    \n",
    "    if np.sum(weights) == 0:\n",
    "        return 100\n",
    "    \n",
    "    weights = weights/np.sum(weights)\n",
    "  \n",
    "    return0 = np.dot(weights, mu)\n",
    "    risk0 = np.dot(weights, np.dot(Sigma, weights))\n",
    "    \n",
    "    return -return0 + gamma*risk0"
   ]
  },
  {
   "cell_type": "code",
   "execution_count": null,
   "metadata": {},
   "outputs": [],
   "source": [
    "M = N*Nq  # Total number of photons\n",
    "\n",
    "qubo = QUBO(\n",
    "    M,\n",
    "    portfolio_function\n",
    ")\n",
    "\n",
    "qubo.train(\n",
    "    learning_rate=1e-1,\n",
    "    updates=100,\n",
    "    samples_per_point=100,\n",
    "    print_frequency=20\n",
    "    )"
   ]
  },
  {
   "cell_type": "markdown",
   "metadata": {},
   "source": [
    "## Investigate results"
   ]
  },
  {
   "cell_type": "code",
   "execution_count": null,
   "metadata": {},
   "outputs": [],
   "source": [
    "index = 0    # min value of qubo.res\n",
    "vects = list(qubo.res.keys())\n",
    "weights = decode_bits_sequence(vects[index], Nq)\n",
    "weights = weights/np.sum(weights)\n",
    "\n",
    "final_portfolio = {}\n",
    "for idx, weight in enumerate(weights):\n",
    "    if weight > 0:\n",
    "        final_portfolio[companies[idx]] = weight\n",
    "\n",
    "print(\"The optimal portfolio weights found by QUBO with these settings is\")\n",
    "pprint(final_portfolio)"
   ]
  },
  {
   "cell_type": "code",
   "execution_count": null,
   "metadata": {},
   "outputs": [],
   "source": [
    "return1 = np.dot(weights, mu)\n",
    "risk1 = np.dot(weights, np.dot(Sigma, weights))\n",
    "print(\"This portfolio has an average annual return of {:.2f}, annual standard deviation of {:.2f}, and a Sharpe ratio of {:.2f}\"\\\n",
    "     .format(return1, np.sqrt(risk1), return1/np.sqrt(risk1)))"
   ]
  },
  {
   "cell_type": "markdown",
   "metadata": {},
   "source": [
    "# Plot return vs risk for different portfolios\n",
    "We aim to be on the \"efficient frontier\", which is the portfolio with the highest return for a given risk. On this graph, blue points represent randomly selected portfolios, and the orange point represents the portfolio found by our algorithm. For a given level of risk (the standard deviation), we aim to have the highest historical return."
   ]
  },
  {
   "cell_type": "code",
   "execution_count": null,
   "metadata": {},
   "outputs": [],
   "source": [
    "np.random.seed(2)\n",
    "\n",
    "returns = []\n",
    "volatilities = []\n",
    "N=len(companies)\n",
    "\n",
    "for x in range(10000):\n",
    "    bit_string = np.random.randint(0,2,N)\n",
    "    weights = bit_string/np.sum(bit_string)\n",
    "    returns.append(np.sum(weights * mu))  # annual basis\n",
    "    volatilities.append(np.dot(weights.T, np.dot(Sigma, weights)))\n",
    "\n",
    "plt.figure(figsize=(10,6))\n",
    "plt.plot(np.sqrt(volatilities), returns, 'o', alpha=0.12, label='Random portfolio')\n",
    "plt.plot([np.sqrt(risk1)],[return1], 'o', label='Our solutions', color=\"orange\")\n",
    "plt.xlabel('Annual Standard Deviation')\n",
    "plt.ylabel('Annual Return')\n",
    "plt.legend()\n",
    "plt.show()"
   ]
  }
 ],
 "metadata": {
  "kernelspec": {
   "display_name": "Python 3",
   "language": "python",
   "name": "python3"
  },
  "language_info": {
   "codemirror_mode": {
    "name": "ipython",
    "version": 3
   },
   "file_extension": ".py",
   "mimetype": "text/x-python",
   "name": "python",
   "nbconvert_exporter": "python",
   "pygments_lexer": "ipython3",
   "version": "3.8.10"
  }
 },
 "nbformat": 4,
 "nbformat_minor": 4
}
