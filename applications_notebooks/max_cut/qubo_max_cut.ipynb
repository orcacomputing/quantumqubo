{
 "cells": [
  {
   "cell_type": "markdown",
   "metadata": {},
   "source": [
    "# The Max-cut problem\n",
    " \n",
    "This notebook demonstrates a concrete example of Quadratic Unconstrained Binary Optimization (QUBO) in the case of the Max-Cut problem. Given a graph, the objective of the Max-Cut problem is to separate all nodes into two sets such that the number of edges between these sets is maximized. Max-Cut can be formulated as a QUBO problem.\n"
   ]
  },
  {
   "cell_type": "code",
   "execution_count": null,
   "metadata": {},
   "outputs": [],
   "source": [
    "# First, perform the relevant imports and navigate to the root folder\n",
    "import os\n",
    "import numpy as np\n",
    "import matplotlib.pyplot as plt\n",
    "import networkx as nx\n",
    "\n",
    "if os.getcwd()[-7:]==\"max_cut\":\n",
    "    os.chdir(\"../..\")\n",
    "\n",
    "from quantumqubo.qubo import QUBO\n",
    "from applications_notebooks.max_cut.utils_max_cut import separate_in_two_subsets\n"
   ]
  },
  {
   "cell_type": "markdown",
   "metadata": {},
   "source": [
    "### Toy instance of Max-Cut\n",
    "\n",
    "We select a simple graph with 5 nodes on which to demonstrate this application of ORCA's QUBO solver."
   ]
  },
  {
   "cell_type": "code",
   "execution_count": null,
   "metadata": {},
   "outputs": [],
   "source": [
    "G = nx.Graph()\n",
    "edge_list = [(0,1), (1,3), (2,4), (3,2), (0,2), (3,4)]\n",
    "\n",
    "G.add_edges_from(edge_list)\n",
    "pos = nx.spring_layout(G, seed=7)  # positions for all nodes - seed for reproducibility\n",
    "nx.draw_networkx_nodes(G, pos, node_size=700, node_color='blue')\n",
    "nx.draw_networkx_edges(G, pos, edgelist=edge_list, width=5)\n",
    "nx.draw_networkx_labels(G, pos, font_size=20, font_family=\"sans-serif\")\n",
    "\n",
    "ax = plt.gca()\n",
    "ax.margins(0.08)\n",
    "plt.axis(\"off\")\n",
    "plt.show()"
   ]
  },
  {
   "cell_type": "markdown",
   "metadata": {},
   "source": [
    "### Draw a solution for this instance"
   ]
  },
  {
   "cell_type": "code",
   "execution_count": null,
   "metadata": {},
   "outputs": [],
   "source": [
    "separate_in_two_subsets(G, [1,2], [0,3,4])"
   ]
  },
  {
   "cell_type": "markdown",
   "metadata": {},
   "source": [
    "# Solving this instance with ORCA's QUBO solver\n",
    "\n",
    "### Max-Cut formulation as a QUBO problem\n",
    "\n",
    "We introduce the variable $x_i = $\n",
    "\n",
    "$$\n",
    "x_i = \\left\\{\n",
    "    \\begin{array}{ll}\n",
    "        0 \\quad \\text{if is in subset A} \\\\\n",
    "        1 \\quad \\text{if is in subset B}\n",
    "    \\end{array}\n",
    "\\right.\n",
    "$$\n",
    "\n",
    "Then,\n",
    "\n",
    "$$\n",
    "x_i + x_j -2x_i x_j = \\left\\{\n",
    "    \\begin{array}{ll}\n",
    "        0 \\quad \\text{if} \\quad(x_i, x_j) \\quad \\text{are in the same subset} \\\\\n",
    "        1 \\quad \\text{if} \\quad(x_i, x_j) \\quad \\text{are in different subset}\n",
    "    \\end{array}\n",
    "\\right.\n",
    "$$\n",
    "\n",
    "Solving Max-Cut is thus equivalent to solving the following QUBo problem:\n",
    "$$\n",
    "C = \\sum_{(x_i,x_j) \\in E} x_i + x_j -2x_i x_j\n",
    "$$"
   ]
  },
  {
   "cell_type": "code",
   "execution_count": null,
   "metadata": {},
   "outputs": [],
   "source": [
    "# Define the matrix Q used for QUBO\n",
    "\n",
    "Q = np.zeros((5,5))\n",
    "for (i,j) in G.edges:\n",
    "    Q[i,i] += -1\n",
    "    Q[j,j] += -1\n",
    "    Q[i,j] += 1\n",
    "    Q[j,i] += 1\n",
    "                \n",
    "print(Q)"
   ]
  },
  {
   "cell_type": "markdown",
   "metadata": {},
   "source": [
    "### Run the training algorithm"
   ]
  },
  {
   "cell_type": "code",
   "execution_count": null,
   "metadata": {},
   "outputs": [],
   "source": [
    "def qubo_function(vect):\n",
    "    return np.dot(vect, np.dot(Q, vect))\n",
    "\n",
    "qubo = QUBO(\n",
    "    5,\n",
    "    qubo_function\n",
    ")\n",
    "\n",
    "qubo.train(\n",
    "    learning_rate=1e-1,\n",
    "    updates=40,\n",
    "    samples_per_point=20,\n",
    "    print_frequency=20\n",
    "    )"
   ]
  },
  {
   "cell_type": "markdown",
   "metadata": {},
   "source": [
    "### Draw the solution"
   ]
  },
  {
   "cell_type": "code",
   "execution_count": null,
   "metadata": {},
   "outputs": [],
   "source": [
    "solution = list(qubo.res.keys())[0]\n",
    "nodes_in_set1 = [idx for idx in range(len(solution)) if solution[idx]==0]\n",
    "nodes_in_set2 = [idx for idx in range(len(solution)) if solution[idx]==1]\n",
    "\n",
    "separate_in_two_subsets(G, nodes_in_set1, nodes_in_set2)"
   ]
  }
 ],
 "metadata": {
  "interpreter": {
   "hash": "ab0548c94e0892163ce599a579a67adf3a51f39ff6ab7e465e0c79e1ed5da84e"
  },
  "kernelspec": {
   "display_name": "Python 3.8.10 64-bit ('tbi': venv)",
   "name": "python3"
  },
  "language_info": {
   "codemirror_mode": {
    "name": "ipython",
    "version": 3
   },
   "file_extension": ".py",
   "mimetype": "text/x-python",
   "name": "python",
   "nbconvert_exporter": "python",
   "pygments_lexer": "ipython3",
   "version": "3.8.10"
  }
 },
 "nbformat": 4,
 "nbformat_minor": 4
}
