{
 "cells": [
  {
   "cell_type": "markdown",
   "metadata": {},
   "source": [
    "# Quadratic Unconstrained Binary Optimization (QUBO)\n",
    " \n",
    "This notebook illustrates an application of ORCA's PT-Series to the QUBO problem. For more information, please see ORCA's paper on the topic."
   ]
  },
  {
   "cell_type": "code",
   "execution_count": null,
   "metadata": {},
   "outputs": [],
   "source": [
    "# First, perform the relevant imports and navigate to the root folder\n",
    "import os\n",
    "import numpy as np\n",
    "import matplotlib.pyplot as plt\n",
    "\n",
    "if os.getcwd()[-9:]==\"notebooks\":\n",
    "    os.chdir(\"..\")\n",
    "\n",
    "from quantumqubo.qubo import QUBO"
   ]
  },
  {
   "cell_type": "markdown",
   "metadata": {},
   "source": [
    "## Problem statement\n",
    "\n",
    "In this example, we want to find the bit string $x \\in \\{0,1\\}^M$ that minimizes the quantity $x^TQx$ where Q is a randomly generated real matrix of dimension (M,M)."
   ]
  },
  {
   "cell_type": "code",
   "execution_count": null,
   "metadata": {},
   "outputs": [],
   "source": [
    "M = 6\n",
    "Q = (np.random.rand(M,M)-0.5)*2\n",
    "print(Q)"
   ]
  },
  {
   "cell_type": "markdown",
   "metadata": {},
   "source": [
    "## Initialise the QUBO solver and train\n",
    "We initialise the QUBO solver by specifying the dimension of the problem, the function to be minimised, and some parameters used for training. To generate arbitrary bit strings, our QUBO solver runs the optimisation loop in 4 different configurations with different numbers of photons and modes."
   ]
  },
  {
   "cell_type": "code",
   "execution_count": null,
   "metadata": {},
   "outputs": [],
   "source": [
    "def qubo_function(vect):\n",
    "    return np.dot(vect, np.dot(Q, vect))\n",
    "\n",
    "qubo = QUBO(\n",
    "    M,\n",
    "    qubo_function\n",
    ")\n",
    "\n",
    "qubo.train(\n",
    "    learning_rate=1e-1,\n",
    "    updates=50,\n",
    "    samples_per_point=50,\n",
    "    print_frequency=10\n",
    ")"
   ]
  },
  {
   "cell_type": "markdown",
   "metadata": {},
   "source": [
    "# Investigate the results"
   ]
  },
  {
   "cell_type": "code",
   "execution_count": null,
   "metadata": {},
   "outputs": [],
   "source": [
    "#print the best solution found and the corresponding energy\n",
    "print(\"Best solution found: {}, with energy {:.2f}\".format(min(qubo.res, key=qubo.res.get),min(qubo.res.values())))"
   ]
  },
  {
   "cell_type": "code",
   "execution_count": null,
   "metadata": {},
   "outputs": [],
   "source": [
    "#Plot the values for the loss as we iterate over 4 different configurations of the PT-Series\n",
    "\n",
    "plt.figure(figsize = (6,4))\n",
    "plt.plot(qubo.energies['config1'], label = 'config1')\n",
    "plt.plot(qubo.energies['config2'], label = 'config2')\n",
    "plt.plot(qubo.energies['config3'], label = 'config3')\n",
    "plt.plot(qubo.energies['config4'], label = 'config4')\n",
    "plt.ylabel('energy')\n",
    "plt.xlabel('updates')\n",
    "plt.legend()\n",
    "plt.show()"
   ]
  }
 ],
 "metadata": {
  "interpreter": {
   "hash": "ab0548c94e0892163ce599a579a67adf3a51f39ff6ab7e465e0c79e1ed5da84e"
  },
  "kernelspec": {
   "display_name": "Python 3.8.10 64-bit ('tbi': venv)",
   "name": "python3"
  },
  "language_info": {
   "codemirror_mode": {
    "name": "ipython",
    "version": 3
   },
   "file_extension": ".py",
   "mimetype": "text/x-python",
   "name": "python",
   "nbconvert_exporter": "python",
   "pygments_lexer": "ipython3",
   "version": "3.8.10"
  }
 },
 "nbformat": 4,
 "nbformat_minor": 4
}
