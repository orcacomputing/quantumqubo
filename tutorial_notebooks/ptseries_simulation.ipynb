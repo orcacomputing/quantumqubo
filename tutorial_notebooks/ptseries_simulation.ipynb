{
 "cells": [
  {
   "cell_type": "markdown",
   "metadata": {},
   "source": [
    "# Simulation of a PT-Series time-bin interferometer\n",
    "\n",
    "This notebook allows a user to simulate Orca's time bin interferometer, consisting of a train of single photons that interfere with each other within one or more loops, producing a large superposition state with different photon numbers at the outputs. The interference is determined by a programmable beam splitter located at each loop, with reflectivity $\\theta$.\n",
    "\n",
    "<img src=\"./figures/tbi.png\" alt=\"ORCA's PT-Series\" width=\"600\"/>\n",
    "<center>Figure 1: Architecture of a PT-Series device.</center>\n",
    "\n",
    "This toolkit contains simulation code for a single-loop PT-Series. A single loop is a regime in which efficient classical simulation is possible, which allows us to demonstrate use cases involving several hundred photons."
   ]
  },
  {
   "cell_type": "code",
   "execution_count": null,
   "metadata": {},
   "outputs": [],
   "source": [
    "# First, perform the relevant imports and navigate to the root folder\n",
    "import os\n",
    "import numpy as np\n",
    "import time\n",
    "from pprint import pprint\n",
    "\n",
    "if os.getcwd()[-9:]==\"notebooks\":\n",
    "    os.chdir(\"..\")\n",
    "\n",
    "from quantumqubo.tbi import TBISampler"
   ]
  },
  {
   "cell_type": "markdown",
   "metadata": {},
   "source": [
    "# Simulation of three single photons in three modes\n",
    "\n",
    "We inject three single photons into three consecutive modes of a single loop PT-Series, corresponding to state |111>. We assume that the reflectivity parameters for the beam splitter used in the PT-Series is fixed over the course of this experiment, with reflectivity parameters $\\theta=\\pi/6$. This means that each beam splitter transmits a photon with probability $\\cos(\\pi/6)^2$.\n",
    "\n",
    "<img src=\"./figures/three_photons.png\" alt=\"A three photon circuit\" width=\"500\"/>\n",
    "<center>Figure 2: Photonic circuit diagram of a single loop PT-Series with three input photons.</center>\n",
    "\n",
    "The photonic circuit diagram corresponding to a single loop PT-Series device with these three input photons is shown in figure 2. In this figure, each input temporal mode is represented as a spatial mode, and the cascade of beam splitters, each with a parameter $\\theta$, represents the action of the single loop with a reconfigurable beam splitter. Note that this circuit distributes three input photons among 4 output modes."
   ]
  },
  {
   "cell_type": "code",
   "execution_count": null,
   "metadata": {},
   "outputs": [],
   "source": [
    "n_photons = 3  # number of photons.\n",
    "angle = np.pi/6  # Parameter that determines beam splitter reflectivity. Reflectivity is determined by cos(ANGLE)^2\n",
    "n_samples = 1000\n",
    "\n",
    "beam_splitter_angles = [angle]*n_photons  # 3 beam splitters with reflectivity parameters pi/6\n",
    "input_state = [1]*n_photons  # input state is |111>\n",
    "\n",
    "tbi = TBISampler()\n",
    "samples = tbi.sample(input_state, beam_splitter_angles, n_samples=n_samples)\n",
    "\n",
    "print(\"Samples are presented as state: counts. For example, (0,0,1,2): 100 means that output state |0012> was measured 100 times.\")\n",
    "pprint(samples)"
   ]
  },
  {
   "cell_type": "markdown",
   "metadata": {},
   "source": [
    "## Sampling from different probability distributions\n",
    "With different beam splitter angles, we get different photon number statistics"
   ]
  },
  {
   "cell_type": "code",
   "execution_count": null,
   "metadata": {},
   "outputs": [],
   "source": [
    "new_angle = np.pi/3\n",
    "new_beam_splitter_angles = [new_angle]*n_photons  # 3 beam splitters with reflectivity pi/3\n",
    "\n",
    "new_samples = tbi.sample(input_state, new_beam_splitter_angles, n_samples=n_samples)\n",
    "\n",
    "print(\"Samples are presented as state: counts. For example, (0,0,1,2): 100 means that output state |0012> was measured 100 times.\")\n",
    "pprint(new_samples)"
   ]
  },
  {
   "cell_type": "markdown",
   "metadata": {},
   "source": [
    "# Sampling from the output of a large input state\n",
    "We can use our simulator to efficiently sample from much larger states, with for example 1000 input photons"
   ]
  },
  {
   "cell_type": "code",
   "execution_count": null,
   "metadata": {},
   "outputs": [],
   "source": [
    "n_photons = 1000\n",
    "angle = np.pi/6\n",
    "\n",
    "beam_splitter_angles = [angle]*n_photons\n",
    "input_state = [1]*n_photons\n",
    "\n",
    "tbi_sampler = TBISampler()"
   ]
  },
  {
   "cell_type": "code",
   "execution_count": null,
   "metadata": {},
   "outputs": [],
   "source": [
    "n_samples = 1000\n",
    "\n",
    "# The first time we sample can take longer due to compiling numba code, so we draw a single sample first\n",
    "tbi_sampler.sample(input_state, beam_splitter_angles, n_samples=1)\n",
    "\n",
    "start = time.time()\n",
    "results = tbi_sampler.sample(input_state, beam_splitter_angles, n_samples=n_samples)\n",
    "print(\"{} samples of states with {} photons calculated in {:.2f} seconds!\".format(n_samples, n_photons, time.time()-start))"
   ]
  }
 ],
 "metadata": {
  "interpreter": {
   "hash": "ab0548c94e0892163ce599a579a67adf3a51f39ff6ab7e465e0c79e1ed5da84e"
  },
  "kernelspec": {
   "display_name": "Python 3 (ipykernel)",
   "language": "python",
   "name": "python3"
  },
  "language_info": {
   "codemirror_mode": {
    "name": "ipython",
    "version": 3
   },
   "file_extension": ".py",
   "mimetype": "text/x-python",
   "name": "python",
   "nbconvert_exporter": "python",
   "pygments_lexer": "ipython3",
   "version": "3.8.10"
  }
 },
 "nbformat": 4,
 "nbformat_minor": 4
}
